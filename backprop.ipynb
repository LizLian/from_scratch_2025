{
  "nbformat": 4,
  "nbformat_minor": 0,
  "metadata": {
    "colab": {
      "provenance": [],
      "generative_ai_disabled": true,
      "authorship_tag": "ABX9TyN9AsJZLpNovu1X8OhILKC8",
      "include_colab_link": true
    },
    "kernelspec": {
      "name": "python3",
      "display_name": "Python 3"
    },
    "language_info": {
      "name": "python"
    }
  },
  "cells": [
    {
      "cell_type": "markdown",
      "metadata": {
        "id": "view-in-github",
        "colab_type": "text"
      },
      "source": [
        "<a href=\"https://colab.research.google.com/github/LizLian/from_scratch_2025/blob/main/backprop.ipynb\" target=\"_parent\"><img src=\"https://colab.research.google.com/assets/colab-badge.svg\" alt=\"Open In Colab\"/></a>"
      ]
    },
    {
      "cell_type": "code",
      "execution_count": 1,
      "metadata": {
        "id": "xFt_JBOviiVO"
      },
      "outputs": [],
      "source": [
        "# @title manual backprop\n",
        "import torch\n",
        "import torch.nn.functional as F\n",
        "import matplotlib.pyplot as plt # for making figures\n",
        "%matplotlib inline"
      ]
    },
    {
      "cell_type": "code",
      "source": [
        "with open('names.txt', 'r') as f:\n",
        "    names = f.read().splitlines()\n",
        "print(names[:10])\n",
        "print(len(names))"
      ],
      "metadata": {
        "colab": {
          "base_uri": "https://localhost:8080/"
        },
        "id": "b-1ds6y2kA_i",
        "outputId": "117a4c47-6719-4025-e85f-251bc8f1170d"
      },
      "execution_count": 2,
      "outputs": [
        {
          "output_type": "stream",
          "name": "stdout",
          "text": [
            "['emma', 'olivia', 'ava', 'isabella', 'sophia', 'charlotte', 'mia', 'amelia', 'harper', 'evelyn']\n",
            "32033\n"
          ]
        }
      ]
    },
    {
      "cell_type": "code",
      "source": [
        "chars = sorted(list(set(\"\".join(names))))\n",
        "stoi = {c:i+1 for i, c in enumerate(chars)}\n",
        "stoi[\".\"] = 0\n",
        "itos = {i:c for c, i in stoi.items()}\n",
        "vocab_size = len(itos)"
      ],
      "metadata": {
        "id": "zAlrBrjkkCzD"
      },
      "execution_count": 3,
      "outputs": []
    },
    {
      "cell_type": "code",
      "source": [
        "block_size = 3\n",
        "\n",
        "def build_dataset(names):\n",
        "  X, Y = [], []\n",
        "  for word in names:\n",
        "    context = [0] * block_size\n",
        "    for ch in word + \".\":\n",
        "      ix = stoi[ch]\n",
        "      X.append(context)\n",
        "      Y.append(ix)\n",
        "      context = context[1:] + [ix]\n",
        "\n",
        "  X = torch.tensor(X)\n",
        "  Y = torch.tensor(Y)\n",
        "  print(X.shape, Y.shape)\n",
        "  return X, Y\n",
        "\n",
        "import random\n",
        "random.seed(42)\n",
        "random.shuffle(names)\n",
        "n1 = int(0.8*len(names))\n",
        "n2 = int(0.9*len(names))\n",
        "Xtrain, Ytrain = build_dataset(names[:n1])\n",
        "Xdev, Ydev = build_dataset(names[n1:n2])\n",
        "Xtest, Ytest = build_dataset(names[n2:])"
      ],
      "metadata": {
        "colab": {
          "base_uri": "https://localhost:8080/"
        },
        "id": "YJfmwj5zkEvt",
        "outputId": "fab8c9fd-9844-4b0a-87bd-c20a61ec8f8d"
      },
      "execution_count": 4,
      "outputs": [
        {
          "output_type": "stream",
          "name": "stdout",
          "text": [
            "torch.Size([182625, 3]) torch.Size([182625])\n",
            "torch.Size([22655, 3]) torch.Size([22655])\n",
            "torch.Size([22866, 3]) torch.Size([22866])\n"
          ]
        }
      ]
    },
    {
      "cell_type": "code",
      "source": [
        "# @title Unitity function we'll use later when comparing manual gradients to PyTorch gradients\n",
        "def cmp(s, dt, t):\n",
        "  ex = torch.all(dt == t.grad).item()\n",
        "  app = torch.allclose(dt, t.grad)\n",
        "  maxdiff = (dt - t.grad).abs().max().item()\n",
        "  print(f\"{s:15s} | exact: {str(ex):5s} | approximate: {str(app):5s} | maxdiff: {maxdiff}\")\n"
      ],
      "metadata": {
        "id": "jZ47dbANrPrP"
      },
      "execution_count": 5,
      "outputs": []
    },
    {
      "cell_type": "code",
      "source": [
        "# MLP\n",
        "n_embd = 10 # the dimensionality of the character embedding vectors\n",
        "n_hidden = 64 # the number neurons in the hidden layer of the MLP\n",
        "\n",
        "g = torch.Generator().manual_seed(2147483647)\n",
        "C = torch.randn((vocab_size, n_embd), generator=g)\n",
        "# Layer 1\n",
        "W1 = torch.randn((n_embd * block_size, n_hidden), generator=g) * (5/3)*(n_embd*block_size)**0.5 #* 0.2\n",
        "b1 = torch.randn(n_hidden, generator=g) * 0.1\n",
        "# Layer 2\n",
        "W2 = torch.randn((n_hidden, vocab_size), generator=g) * 0.1\n",
        "b2 = torch.randn(vocab_size, generator=g) * 0.1\n",
        "# BatchNorm parameters\n",
        "bngain = torch.randn((1, n_hidden))*0.1 + 1.0\n",
        "bnbias = torch.randn((1, n_hidden))*0.1\n",
        "\n",
        "parameters = [C, W1, b1, W2, b2, bngain, bnbias]\n",
        "\n",
        "# number of parameters in total\n",
        "print(sum(p.nelement() for p in parameters))\n",
        "\n",
        "for p in parameters:\n",
        "  p.requires_grad = True"
      ],
      "metadata": {
        "colab": {
          "base_uri": "https://localhost:8080/"
        },
        "id": "egZXhNW5kHYu",
        "outputId": "9f47c71c-59ec-40d1-e1a1-7b06d75e42de"
      },
      "execution_count": 6,
      "outputs": [
        {
          "output_type": "stream",
          "name": "stdout",
          "text": [
            "4137\n"
          ]
        }
      ]
    },
    {
      "cell_type": "code",
      "source": [
        "x = torch.randn(1000, 10)\n",
        "w = torch.randn(10, 200)\n",
        "# x (the input) is standard normal distribution, we need to keep the output (y) the same distribution.\n",
        "# right now the std of y is 3.17 and we aim at getting it to 1.\n",
        "# empirically we'll achieve it by dividing w by the sqaure root of fan_in (number of inputs).\n",
        "y = x @ w\n",
        "print(x.mean(), x.std())\n",
        "print(y.mean(), y.std())\n",
        "plt.figure(figsize=(20,5))\n",
        "plt.subplot(121)\n",
        "plt.hist(x.view(-1).tolist(), 50, density=True);\n",
        "plt.subplot(122)\n",
        "plt.hist(y.view(-1).tolist(), 50, density=True);\n",
        "\n",
        "# adjust w so that y follows std normal distribution\n",
        "x = torch.randn(1000, 10)\n",
        "w = torch.randn(10, 200) / 10**0.5\n",
        "y = x @ w\n",
        "print(x.mean(), x.std())\n",
        "print(y.mean(), y.std())\n",
        "plt.figure(figsize=(20,5))\n",
        "plt.subplot(131)\n",
        "plt.hist(x.view(-1).tolist(), 50, density=True);\n",
        "plt.subplot(132)\n",
        "plt.hist(y.view(-1).tolist(), 50, density=True);"
      ],
      "metadata": {
        "colab": {
          "base_uri": "https://localhost:8080/",
          "height": 799
        },
        "id": "2mCApmroP1hR",
        "outputId": "3159102c-41c4-47a8-80e8-0009e9a17cc0"
      },
      "execution_count": 7,
      "outputs": [
        {
          "output_type": "stream",
          "name": "stdout",
          "text": [
            "tensor(0.0063) tensor(0.9945)\n",
            "tensor(-0.0065) tensor(3.1186)\n",
            "tensor(0.0038) tensor(0.9977)\n",
            "tensor(-0.0042) tensor(1.0094)\n"
          ]
        },
        {
          "output_type": "display_data",
          "data": {
            "text/plain": [
              "<Figure size 2000x500 with 2 Axes>"
            ],
            "image/png": "[encoded data removed]"
          },
          "metadata": {}
        },
        {
          "output_type": "display_data",
          "data": {
            "text/plain": [
              "<Figure size 2000x500 with 2 Axes>"
            ],
            "image/png": "[encoded data removed]"
          },
          "metadata": {}
        }
      ]
    },
    {
      "cell_type": "code",
      "source": [
        "# single batch\n",
        "batch_size = 32\n",
        "n = batch_size\n",
        "# minibatch construct\n",
        "ix = torch.randint(0, Xtrain.shape[0], (batch_size,), generator=g)\n",
        "Xb, Yb = Xtrain[ix], Ytrain[ix]"
      ],
      "metadata": {
        "id": "y4Hpb8pg8T-f"
      },
      "execution_count": 8,
      "outputs": []
    },
    {
      "cell_type": "code",
      "source": [
        "# forward pass\n",
        "emb = C[Xb]\n",
        "embcat = emb.view(emb.shape[0], -1)\n",
        "# linear layer 1\n",
        "hprebn = embcat @ W1 + b1 # hidden layer pre-activation\n",
        "# BatchNorm layer\n",
        "# ------------------------------------------------------\n",
        "bnmeani = 1/n*hprebn.sum(0, keepdim=True)\n",
        "bndiff = hprebn - bnmeani\n",
        "bndiff2 = bndiff**2\n",
        "bnvar = 1/(n-1)*bndiff2.sum(0, keepdim=True)\n",
        "bnvar_inv = (bnvar + 1e-5)**-0.5\n",
        "bnraw = bndiff * bnvar_inv\n",
        "hpreact = bngain * bnraw + bnbias\n",
        "# ------------------------------------------------------\n",
        "# Non-linearity\n",
        "h = torch.tanh(hpreact)\n",
        "# linear layer 2\n",
        "logits = h @ W2 + b2\n",
        "# cross entropy loss\n",
        "logit_maxes = logits.max(1, keepdim=True).values\n",
        "norm_logits = logits - logit_maxes\n",
        "counts = norm_logits.exp()\n",
        "counts_sum = counts.sum(1, keepdims=True)\n",
        "counts_sum_inv = counts_sum**-1\n",
        "probs = counts * counts_sum_inv\n",
        "logprobs = probs.log()\n",
        "loss = -logprobs[range(n), Yb].mean()\n",
        "\n",
        "# Pytorch backward pass\n",
        "for p in parameters:\n",
        "  p.grad = None\n",
        "for t in [logprobs, probs, counts, counts_sum, counts_sum_inv,\n",
        "          norm_logits, logit_maxes, logits, h, hpreact, bnraw,\n",
        "          bnvar_inv, bnvar, bndiff2, bndiff, hprebn, bnmeani,\n",
        "          embcat, emb]:\n",
        "  t.retain_grad()\n",
        "loss.backward()\n",
        "loss"
      ],
      "metadata": {
        "colab": {
          "base_uri": "https://localhost:8080/"
        },
        "id": "fJlqL8UikPUq",
        "outputId": "a62e16a2-35cc-4985-c368-25bd2ffbdd93"
      },
      "execution_count": 9,
      "outputs": [
        {
          "output_type": "execute_result",
          "data": {
            "text/plain": [
              "tensor(3.3321, grad_fn=<NegBackward0>)"
            ]
          },
          "metadata": {},
          "execution_count": 9
        }
      ]
    },
    {
      "cell_type": "code",
      "source": [
        "emb.shape, C.shape, Xb.shape\n",
        "# emb = C[Xb]"
      ],
      "metadata": {
        "id": "c8mt3Gbq-c3x",
        "colab": {
          "base_uri": "https://localhost:8080/"
        },
        "outputId": "b27c23a1-8137-4157-c0be-198a046bfc35"
      },
      "execution_count": 10,
      "outputs": [
        {
          "output_type": "execute_result",
          "data": {
            "text/plain": [
              "(torch.Size([32, 3, 10]), torch.Size([27, 10]), torch.Size([32, 3]))"
            ]
          },
          "metadata": {},
          "execution_count": 10
        }
      ]
    },
    {
      "cell_type": "code",
      "source": [
        "# Exercise 1: backprop through the exactly all the variables\n",
        "# as they are defined in the forward pass above, one by one.\n",
        "dlogprobs = torch.zeros_like(logprobs)\n",
        "dlogprobs[range(n), Yb] = -1.0/n\n",
        "dprobs = 1.0/probs * dlogprobs\n",
        "dcounts_sum_inv = (counts * dprobs).sum(1, keepdim=True)\n",
        "dcounts = counts_sum_inv * dprobs\n",
        "dcounts_sum = -counts_sum**-2 * dcounts_sum_inv\n",
        "dcounts += torch.ones_like(counts) * dcounts_sum\n",
        "dnorm_logits = norm_logits.exp() * dcounts\n",
        "dlogit_maxes = -dnorm_logits.sum(1, keepdim=True)\n",
        "dlogits = dnorm_logits.clone()\n",
        "dlogits += F.one_hot(logits.max(1).indices, num_classes=logits.shape[1]) * dlogit_maxes\n",
        "dh = dlogits @ W2.T\n",
        "dW2 = h.T @ dlogits\n",
        "db2 = dlogits.sum(0)\n",
        "dhpreact = (1.0 - h**2) * dh\n",
        "dbngain = (bnraw * dhpreact).sum(0, keepdim=True)\n",
        "dbnraw = bngain * dhpreact\n",
        "dbnbias = dhpreact.sum(0, keepdim=True)\n",
        "dbndiff = bnvar_inv * dbnraw\n",
        "dbnvar_inv = (bndiff * dbnraw).sum(0, keepdim=True)\n",
        "dbnvar = -0.5*(bnvar + 1e-5)**-1.5 * dbnvar_inv\n",
        "dbndiff2 = 1/(n-1)*torch.ones_like(bnvar) * dbnvar\n",
        "dbndiff += 2*bndiff * dbndiff2\n",
        "dhprebn = dbndiff.clone()\n",
        "dbnmeani = (-dbndiff).sum(0, keepdim=True)\n",
        "dhprebn += 1/n * torch.ones_like(dhprebn) * dbnmeani\n",
        "dembcat = dhprebn @ W1.T\n",
        "dW1 = embcat.T @ dhprebn\n",
        "db1 = dhprebn.sum(0)\n",
        "demb = dembcat.view(emb.shape)\n",
        "dC = torch.zeros_like(C)\n",
        "for i in range(Xb.shape[0]):\n",
        "  for j in range(Xb.shape[1]):\n",
        "    dC[Xb[i, j]] += demb[i, j, :]\n",
        "\n",
        "cmp(\"logprobs\", dlogprobs, logprobs)\n",
        "cmp(\"probs\", dprobs, probs)\n",
        "cmp(\"counts_sum_inv\", dcounts_sum_inv, counts_sum_inv)\n",
        "cmp(\"counts_sum\", dcounts_sum, counts_sum)\n",
        "cmp(\"counts\", dcounts, counts)\n",
        "cmp(\"norm_logits\", dnorm_logits, norm_logits)\n",
        "cmp(\"logit_maxes\", dlogit_maxes, logit_maxes)\n",
        "cmp(\"logits\", dlogits, logits)\n",
        "cmp(\"h\", dh, h)\n",
        "cmp(\"W2\", dW2, W2)\n",
        "cmp(\"b2\", db2, b2)\n",
        "cmp(\"hpreact\", dhpreact, hpreact)\n",
        "cmp(\"bngain\", dbngain, bngain)\n",
        "cmp(\"bnraw\", dbnraw, bnraw)\n",
        "cmp(\"bnbias\", dbnbias, bnbias)\n",
        "cmp(\"bnvar_inv\", dbnvar_inv, bnvar_inv)\n",
        "cmp(\"bndiff\", dbndiff, bndiff)\n",
        "cmp(\"bnvar\", dbnvar, bnvar)\n",
        "cmp(\"bndiff2\", dbndiff2, bndiff2)\n",
        "cmp(\"hprebn\", dhprebn, hprebn)\n",
        "cmp(\"bnmeani\", dbnmeani, bnmeani)\n",
        "cmp(\"embcat\", dembcat, embcat)\n",
        "cmp(\"W1\", dW1, W1)\n",
        "cmp(\"b1\", db1, b1)\n",
        "cmp(\"emb\", demb, emb)\n",
        "cmp(\"C\", dC, C)"
      ],
      "metadata": {
        "colab": {
          "base_uri": "https://localhost:8080/"
        },
        "id": "9Agpo0bFmG1l",
        "outputId": "a040055c-0273-4004-892b-e0bbf14b2262"
      },
      "execution_count": 11,
      "outputs": [
        {
          "output_type": "stream",
          "name": "stdout",
          "text": [
            "logprobs        | exact: True  | approximate: True  | maxdiff: 0.0\n",
            "probs           | exact: True  | approximate: True  | maxdiff: 0.0\n",
            "counts_sum_inv  | exact: True  | approximate: True  | maxdiff: 0.0\n",
            "counts_sum      | exact: True  | approximate: True  | maxdiff: 0.0\n",
            "counts          | exact: True  | approximate: True  | maxdiff: 0.0\n",
            "norm_logits     | exact: True  | approximate: True  | maxdiff: 0.0\n",
            "logit_maxes     | exact: True  | approximate: True  | maxdiff: 0.0\n",
            "logits          | exact: True  | approximate: True  | maxdiff: 0.0\n",
            "h               | exact: True  | approximate: True  | maxdiff: 0.0\n",
            "W2              | exact: True  | approximate: True  | maxdiff: 0.0\n",
            "b2              | exact: True  | approximate: True  | maxdiff: 0.0\n",
            "hpreact         | exact: False | approximate: True  | maxdiff: 4.656612873077393e-10\n",
            "bngain          | exact: False | approximate: True  | maxdiff: 1.862645149230957e-09\n",
            "bnraw           | exact: False | approximate: True  | maxdiff: 4.656612873077393e-10\n",
            "bnbias          | exact: False | approximate: True  | maxdiff: 3.725290298461914e-09\n",
            "bnvar_inv       | exact: False | approximate: True  | maxdiff: 1.1920928955078125e-07\n",
            "bndiff          | exact: False | approximate: True  | maxdiff: 1.4551915228366852e-11\n",
            "bnvar           | exact: False | approximate: True  | maxdiff: 9.094947017729282e-13\n",
            "bndiff2         | exact: False | approximate: True  | maxdiff: 2.842170943040401e-14\n",
            "hprebn          | exact: False | approximate: True  | maxdiff: 2.9103830456733704e-11\n",
            "bnmeani         | exact: False | approximate: True  | maxdiff: 5.820766091346741e-11\n",
            "embcat          | exact: False | approximate: True  | maxdiff: 1.3969838619232178e-09\n",
            "W1              | exact: False | approximate: True  | maxdiff: 1.7462298274040222e-10\n",
            "b1              | exact: False | approximate: True  | maxdiff: 7.639755494892597e-11\n",
            "emb             | exact: False | approximate: True  | maxdiff: 1.3969838619232178e-09\n",
            "C               | exact: False | approximate: True  | maxdiff: 5.587935447692871e-09\n"
          ]
        }
      ]
    },
    {
      "cell_type": "markdown",
      "source": [],
      "metadata": {
        "id": "knlHzlFw1jeX"
      }
    },
    {
      "cell_type": "code",
      "source": [
        "# @title cross entropy backward pass\n",
        "\n",
        "dlogits = F.softmax(logits, 1)\n",
        "dlogits[range(n), Yb] -= 1\n",
        "dlogits /= n\n",
        "cmp(\"logits\", dlogits, logits)"
      ],
      "metadata": {
        "id": "-tM6oy_lmRUt",
        "colab": {
          "base_uri": "https://localhost:8080/"
        },
        "outputId": "ffeff64d-66ce-444f-f087-69bb75c70fb2"
      },
      "execution_count": 12,
      "outputs": [
        {
          "output_type": "stream",
          "name": "stdout",
          "text": [
            "logits          | exact: False | approximate: True  | maxdiff: 5.587935447692871e-09\n"
          ]
        }
      ]
    },
    {
      "cell_type": "code",
      "source": [
        "# @title BatchNorm derivation\n",
        "dhprebn = bngain * bnvar_inv/n * (n * dhpreact - dhpreact.sum(0) - n/(n-1) * bnraw * (dhpreact * bnraw).sum(0))\n",
        "\n",
        "cmp(\"hprebn\", dhprebn, hprebn)"
      ],
      "metadata": {
        "colab": {
          "base_uri": "https://localhost:8080/"
        },
        "id": "_HxauSnJq2kZ",
        "outputId": "b36751fe-a5ae-49ac-ab2b-071182b4ccf3"
      },
      "execution_count": 14,
      "outputs": [
        {
          "output_type": "stream",
          "name": "stdout",
          "text": [
            "hprebn          | exact: False | approximate: True  | maxdiff: 2.9103830456733704e-11\n"
          ]
        }
      ]
    },
    {
      "cell_type": "code",
      "source": [],
      "metadata": {
        "id": "mNhMGJyiYM8Y"
      },
      "execution_count": null,
      "outputs": []
    }
  ]
}